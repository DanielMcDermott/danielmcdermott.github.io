{
 "cells": [
  {
   "cell_type": "markdown",
   "metadata": {},
   "source": [
    "My attempt at the [7-Segment Display](https://en.wikipedia.org/wiki/Seven-segment_display) problem from Tom Scott's 'The Basics' series. See the video [here](https://www.youtube.com/watch?v=zp4BMR88260)."
   ]
  },
  {
   "cell_type": "code",
   "execution_count": 1,
   "metadata": {},
   "outputs": [],
   "source": [
    "# Load in modules\n",
    "from itertools import compress\n",
    "import matplotlib.pyplot as plt\n",
    "import numpy as np\n",
    "import re"
   ]
  },
  {
   "cell_type": "code",
   "execution_count": 2,
   "metadata": {},
   "outputs": [],
   "source": [
    "# Read the dictionary (from https://github.com/dwyl/english-words)\n",
    "words = [line.rstrip('\\n') for line in open('words_alpha.txt')]"
   ]
  },
  {
   "cell_type": "code",
   "execution_count": 3,
   "metadata": {},
   "outputs": [
    {
     "data": {
      "text/plain": [
       "370103"
      ]
     },
     "execution_count": 3,
     "metadata": {},
     "output_type": "execute_result"
    }
   ],
   "source": [
    "# Out of interest, how many words does this dictionary have?\n",
    "len(words)"
   ]
  },
  {
   "cell_type": "code",
   "execution_count": 4,
   "metadata": {},
   "outputs": [],
   "source": [
    "# What is the distribution of word lengths\n",
    "lengths = np.array([len(i) for i in words])"
   ]
  },
  {
   "cell_type": "code",
   "execution_count": 5,
   "metadata": {},
   "outputs": [
    {
     "data": {
      "text/plain": [
       "Text(0, 0.5, 'Frequency')"
      ]
     },
     "execution_count": 5,
     "metadata": {},
     "output_type": "execute_result"
    },
    {
     "data": {
      "image/png": "[encoded data removed]",
      "text/plain": [
       "<Figure size 432x288 with 1 Axes>"
      ]
     },
     "metadata": {
      "needs_background": "light"
     },
     "output_type": "display_data"
    }
   ],
   "source": [
    "plt.hist(lengths, bins=30)\n",
    "plt.title('Distribution of English Word Length')\n",
    "plt.xlabel('Length')\n",
    "plt.ylabel('Frequency')"
   ]
  },
  {
   "cell_type": "markdown",
   "metadata": {},
   "source": [
    "# 7-Segment Display Question"
   ]
  },
  {
   "cell_type": "markdown",
   "metadata": {},
   "source": [
    "What is/are the longest English word(s) that can be written on a standard 7-segment display?\n",
    "\n",
    "\n",
    "This largely comes down to defining a set of letters that we can justifiably render on a 7-segment display. Tricky letters are those that contain diagonal lines such as 'W', 'M' and 'Z'. I think Tom Scott's list of bad letters (gkmqvwxz(io)) is nearly perfect. I think 'G' is fine and that 'I' and 'O' should be included. I'll evaluate a few combinations of bad letters and see what happens."
   ]
  },
  {
   "cell_type": "code",
   "execution_count": 6,
   "metadata": {},
   "outputs": [],
   "source": [
    "v1 = '[kmqvwxz]' # What I think is fine\n",
    "v2 = '[kmqvwxzg]' # Tom's v1\n",
    "v3 = '[kmqvwxzgio]' # Tom's v2\n",
    "v4 = '[kmqvwxzgior]' # Just interested\n",
    "v5 = '[kmqvwxzgiort]' # Demonstrating that the code can handle multiple results of the same length"
   ]
  },
  {
   "cell_type": "code",
   "execution_count": 7,
   "metadata": {},
   "outputs": [
    {
     "name": "stdout",
     "output_type": "stream",
     "text": [
      "Longest Words: 'dichlorodiphenyltrichloroethane'\n",
      " - Excluded Letters: kmqvwxz\n",
      " - Length: 31\n",
      "Longest Words: 'dichlorodiphenyltrichloroethane'\n",
      " - Excluded Letters: kmqvwxzg\n",
      " - Length: 31\n",
      "Longest Words: 'supertranscendentness'\n",
      " - Excluded Letters: kmqvwxzgio\n",
      " - Length: 21\n",
      "Longest Words: 'phenylacetaldehyde'\n",
      " - Excluded Letters: kmqvwxzgior\n",
      " - Length: 18\n",
      "Longest Words: 'unappealableness' 'unappeasableness' 'unascendableness'\n",
      "  'unassessableness' 'uncalculableness' 'undefendableness'\n",
      "  'undependableness' 'unsuccessfulness'\n",
      " - Excluded Letters: kmqvwxzgiort\n",
      " - Length: 16\n"
     ]
    }
   ],
   "source": [
    "for version in [v1, v2, v3, v4, v5]: # Loop through the different versions of excluded letters\n",
    "    pattern = re.compile(version)\n",
    "\n",
    "    res = [] # Define a results list to append to\n",
    "    for word in words : # Loop through the list of all words append F word contains bad letters\n",
    "        if pattern.findall(word):\n",
    "            res.append(False)\n",
    "        else:\n",
    "            res.append(True)\n",
    "\n",
    "    assert len(words) == len(res) # Check the boolean and word list match\n",
    "\n",
    "    goodWords = np.array(list(compress(words, res))) # Compress the word list by results\n",
    "    \n",
    "    goodLengths = np.array([len(i) for i in goodWords]) # Evaluate all lenghts\n",
    "\n",
    "    longest = np.max(goodLengths) # Evaluate the longest length\n",
    "\n",
    "    ix = np.where(goodLengths == longest) # Take all position that equal the longest length\n",
    "    \n",
    "    # Print the results\n",
    "    print(\"Longest Words: {}\\n - Excluded Letters: {}\\n - Length: {}\".format(str(goodWords.take(ix))[2:-2],\n",
    "                                                                            version[1:-1],\n",
    "                                                                            str(longest)))"
   ]
  },
  {
   "cell_type": "markdown",
   "metadata": {},
   "source": [
    "This was an interesting problem all round, thanks for sharing [Tom](https://www.youtube.com/channel/UCBa659QWEk1AI4Tg--mrJ2A). \n",
    "\n",
    "Criticism and discussion of the methods I've used to answer this problem are entirely welcome. Also, if you know of any other cool coding problems, feel free to send them my way.\n",
    "\n",
    "Happy Coding,\n",
    "\n",
    "Sean"
   ]
  }
 ],
 "metadata": {
  "kernelspec": {
   "display_name": "Python 3",
   "language": "python",
   "name": "python3"
  },
  "language_info": {
   "codemirror_mode": {
    "name": "ipython",
    "version": 3
   },
   "file_extension": ".py",
   "mimetype": "text/x-python",
   "name": "python",
   "nbconvert_exporter": "python",
   "pygments_lexer": "ipython3",
   "version": "3.6.8"
  }
 },
 "nbformat": 4,
 "nbformat_minor": 2
}
